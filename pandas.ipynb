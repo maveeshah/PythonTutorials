{
 "cells": [
  {
   "cell_type": "markdown",
   "metadata": {},
   "source": [
    "# Pandas Tutorial"
   ]
  },
  {
   "cell_type": "code",
   "execution_count": 31,
   "metadata": {},
   "outputs": [],
   "source": [
    "import pandas"
   ]
  },
  {
   "cell_type": "markdown",
   "metadata": {},
   "source": [
    "\n",
    "\n",
    "# Topic 1:  Input & Output"
   ]
  },
  {
   "attachments": {
    "image.png": {
     "image/png": "[encoded data removed]"
    }
   },
   "cell_type": "markdown",
   "metadata": {},
   "source": [
    "### Define input & output paths\n",
    "The pandas I/O API is a set of top level reader functions accessed like pandas.read_csv() that generally return a pandas object. The corresponding writer functions are object methods that are accessed like DataFrame.to_csv(). Below is a table containing available readers and writers.\n",
    "\n",
    "![image.png](attachment:image.png)"
   ]
  },
  {
   "cell_type": "code",
   "execution_count": 32,
   "metadata": {},
   "outputs": [],
   "source": [
    "\n",
    "fuel_cost_data_set_path = \"data/datasets/fuel_cost_data.csv\"\n",
    "fuel_cost_data_set_processed_path = \"data/processed/scaled_fuel_cost_data.csv\""
   ]
  },
  {
   "cell_type": "markdown",
   "metadata": {},
   "source": [
    "### Read csv as pandas dataframe & describe"
   ]
  },
  {
   "cell_type": "code",
   "execution_count": 33,
   "metadata": {},
   "outputs": [
    {
     "name": "stdout",
     "output_type": "stream",
     "text": [
      "         fuel_cost  toll_cost   misc_cost\n",
      "count    31.000000  31.000000   31.000000\n",
      "mean    684.048387  17.587097   42.741935\n",
      "std    1154.536562  13.032977   20.904494\n",
      "min      22.000000  10.200000   20.000000\n",
      "25%     223.000000  12.000000   28.000000\n",
      "50%     344.000000  14.000000   36.000000\n",
      "75%     557.500000  15.200000   59.000000\n",
      "max    5959.000000  56.000000  100.000000\n"
     ]
    }
   ],
   "source": [
    "fuel_cost_data_frame = pandas.read_csv(fuel_cost_data_set_path)\n",
    "print fuel_cost_data_frame.describe()"
   ]
  },
  {
   "cell_type": "markdown",
   "metadata": {},
   "source": [
    "### Scale dataframe"
   ]
  },
  {
   "cell_type": "code",
   "execution_count": 34,
   "metadata": {},
   "outputs": [],
   "source": [
    "fuel_cost_data_frame[\"scaled_fuel_cost\"] = fuel_cost_data_frame[\"fuel_cost\"] / 100.0"
   ]
  },
  {
   "cell_type": "markdown",
   "metadata": {},
   "source": [
    "### Save to CSV & show dataframe"
   ]
  },
  {
   "cell_type": "code",
   "execution_count": 35,
   "metadata": {},
   "outputs": [
    {
     "name": "stdout",
     "output_type": "stream",
     "text": [
      "         Date  fuel_cost  toll_cost  misc_cost  scaled_fuel_cost\n",
      "0  2018-07-01      123.5       10.2        100             1.235\n",
      "1  2018-07-02      256.0       56.0        100             2.560\n",
      "2  2018-07-03       45.0       15.2         20             0.450\n",
      "3  2018-07-04      223.0       12.0         36             2.230\n",
      "4  2018-07-05      445.0       14.0         59             4.450\n",
      "5  2018-07-06      999.0       11.0         48             9.990\n",
      "6  2018-07-07      444.0       15.0         20             4.440\n",
      "7  2018-07-08      565.0       12.0         36             5.650\n",
      "8  2018-07-09     3232.0       16.0         59            32.320\n",
      "9  2018-07-10      484.0       12.0         20             4.840\n"
     ]
    }
   ],
   "source": [
    "print fuel_cost_data_frame[:10]\n",
    "fuel_cost_data_frame.to_csv(fuel_cost_data_set_processed_path)"
   ]
  },
  {
   "cell_type": "code",
   "execution_count": null,
   "metadata": {},
   "outputs": [],
   "source": [
    "\n",
    "\n"
   ]
  },
  {
   "cell_type": "markdown",
   "metadata": {},
   "source": [
    "\n",
    "\n",
    "\n",
    "# Topic 2:  Series\n",
    "\n",
    "Series is a one-dimensional labeled array capable of holding any data type (integers, strings, floating point numbers, Python objects, etc.). The axis labels are collectively referred to as the index"
   ]
  },
  {
   "cell_type": "code",
   "execution_count": 37,
   "metadata": {},
   "outputs": [
    {
     "data": {
      "text/plain": [
       "pandas.core.series.Series"
      ]
     },
     "execution_count": 37,
     "metadata": {},
     "output_type": "execute_result"
    }
   ],
   "source": [
    "type(fuel_cost_data_frame[\"Date\"])"
   ]
  },
  {
   "cell_type": "code",
   "execution_count": 39,
   "metadata": {},
   "outputs": [
    {
     "name": "stdout",
     "output_type": "stream",
     "text": [
      "0    2018-07-01\n",
      "1    2018-07-02\n",
      "2    2018-07-03\n",
      "3    2018-07-04\n",
      "4    2018-07-05\n",
      "5    2018-07-06\n",
      "6    2018-07-07\n",
      "7    2018-07-08\n",
      "8    2018-07-09\n",
      "9    2018-07-10\n",
      "Name: Date, dtype: object\n"
     ]
    }
   ],
   "source": [
    "print fuel_cost_data_frame[\"Date\"][:10]"
   ]
  },
  {
   "cell_type": "code",
   "execution_count": null,
   "metadata": {},
   "outputs": [],
   "source": [
    "\n",
    "\n"
   ]
  },
  {
   "attachments": {
    "image.png": {
     "image/png": "[encoded data removed]"
    }
   },
   "cell_type": "markdown",
   "metadata": {},
   "source": [
    "# Topic 3:   Indexing & Selection\n",
    "### 1) loc slices data frame till the specified index (Included) <br>\n",
    "Access a group of rows and columns by label(s)<br>\n",
    ".loc[] is primarily label based<br>\n",
    "![image.png](attachment:image.png)\n",
    "### 2) iloc slices data frame till the specified index irrespective of arrangement of index <br> \n",
    "Purely integer-location based indexing for selection by position.\n",
    "### 3) iloc works like direct slicing using [ ] <br>"
   ]
  },
  {
   "cell_type": "code",
   "execution_count": 45,
   "metadata": {},
   "outputs": [
    {
     "data": {
      "text/html": [
       "<div>\n",
       "<style scoped>\n",
       "    .dataframe tbody tr th:only-of-type {\n",
       "        vertical-align: middle;\n",
       "    }\n",
       "\n",
       "    .dataframe tbody tr th {\n",
       "        vertical-align: top;\n",
       "    }\n",
       "\n",
       "    .dataframe thead th {\n",
       "        text-align: right;\n",
       "    }\n",
       "</style>\n",
       "<table border=\"1\" class=\"dataframe\">\n",
       "  <thead>\n",
       "    <tr style=\"text-align: right;\">\n",
       "      <th></th>\n",
       "      <th>Date</th>\n",
       "      <th>fuel_cost</th>\n",
       "      <th>toll_cost</th>\n",
       "      <th>misc_cost</th>\n",
       "      <th>scaled_fuel_cost</th>\n",
       "    </tr>\n",
       "  </thead>\n",
       "  <tbody>\n",
       "    <tr>\n",
       "      <th>0</th>\n",
       "      <td>2018-07-01</td>\n",
       "      <td>123.5</td>\n",
       "      <td>10.2</td>\n",
       "      <td>100</td>\n",
       "      <td>1.235</td>\n",
       "    </tr>\n",
       "    <tr>\n",
       "      <th>1</th>\n",
       "      <td>2018-07-02</td>\n",
       "      <td>256.0</td>\n",
       "      <td>56.0</td>\n",
       "      <td>100</td>\n",
       "      <td>2.560</td>\n",
       "    </tr>\n",
       "    <tr>\n",
       "      <th>2</th>\n",
       "      <td>2018-07-03</td>\n",
       "      <td>45.0</td>\n",
       "      <td>15.2</td>\n",
       "      <td>20</td>\n",
       "      <td>0.450</td>\n",
       "    </tr>\n",
       "  </tbody>\n",
       "</table>\n",
       "</div>"
      ],
      "text/plain": [
       "         Date  fuel_cost  toll_cost  misc_cost  scaled_fuel_cost\n",
       "0  2018-07-01      123.5       10.2        100             1.235\n",
       "1  2018-07-02      256.0       56.0        100             2.560\n",
       "2  2018-07-03       45.0       15.2         20             0.450"
      ]
     },
     "execution_count": 45,
     "metadata": {},
     "output_type": "execute_result"
    }
   ],
   "source": [
    "fuel_cost_data_frame.loc[:2]"
   ]
  },
  {
   "cell_type": "code",
   "execution_count": 46,
   "metadata": {},
   "outputs": [
    {
     "data": {
      "text/html": [
       "<div>\n",
       "<style scoped>\n",
       "    .dataframe tbody tr th:only-of-type {\n",
       "        vertical-align: middle;\n",
       "    }\n",
       "\n",
       "    .dataframe tbody tr th {\n",
       "        vertical-align: top;\n",
       "    }\n",
       "\n",
       "    .dataframe thead th {\n",
       "        text-align: right;\n",
       "    }\n",
       "</style>\n",
       "<table border=\"1\" class=\"dataframe\">\n",
       "  <thead>\n",
       "    <tr style=\"text-align: right;\">\n",
       "      <th></th>\n",
       "      <th>Date</th>\n",
       "      <th>fuel_cost</th>\n",
       "      <th>toll_cost</th>\n",
       "      <th>misc_cost</th>\n",
       "      <th>scaled_fuel_cost</th>\n",
       "    </tr>\n",
       "  </thead>\n",
       "  <tbody>\n",
       "    <tr>\n",
       "      <th>0</th>\n",
       "      <td>2018-07-01</td>\n",
       "      <td>123.5</td>\n",
       "      <td>10.2</td>\n",
       "      <td>100</td>\n",
       "      <td>1.235</td>\n",
       "    </tr>\n",
       "    <tr>\n",
       "      <th>1</th>\n",
       "      <td>2018-07-02</td>\n",
       "      <td>256.0</td>\n",
       "      <td>56.0</td>\n",
       "      <td>100</td>\n",
       "      <td>2.560</td>\n",
       "    </tr>\n",
       "  </tbody>\n",
       "</table>\n",
       "</div>"
      ],
      "text/plain": [
       "         Date  fuel_cost  toll_cost  misc_cost  scaled_fuel_cost\n",
       "0  2018-07-01      123.5       10.2        100             1.235\n",
       "1  2018-07-02      256.0       56.0        100             2.560"
      ]
     },
     "execution_count": 46,
     "metadata": {},
     "output_type": "execute_result"
    }
   ],
   "source": [
    "fuel_cost_data_frame.iloc[:2]"
   ]
  },
  {
   "cell_type": "markdown",
   "metadata": {},
   "source": [
    "### loc & iloc when index is not sorted"
   ]
  },
  {
   "cell_type": "code",
   "execution_count": 47,
   "metadata": {},
   "outputs": [
    {
     "data": {
      "text/html": [
       "<div>\n",
       "<style scoped>\n",
       "    .dataframe tbody tr th:only-of-type {\n",
       "        vertical-align: middle;\n",
       "    }\n",
       "\n",
       "    .dataframe tbody tr th {\n",
       "        vertical-align: top;\n",
       "    }\n",
       "\n",
       "    .dataframe thead th {\n",
       "        text-align: right;\n",
       "    }\n",
       "</style>\n",
       "<table border=\"1\" class=\"dataframe\">\n",
       "  <thead>\n",
       "    <tr style=\"text-align: right;\">\n",
       "      <th></th>\n",
       "      <th>Date</th>\n",
       "      <th>fuel_cost</th>\n",
       "      <th>toll_cost</th>\n",
       "      <th>misc_cost</th>\n",
       "      <th>scaled_fuel_cost</th>\n",
       "    </tr>\n",
       "  </thead>\n",
       "  <tbody>\n",
       "    <tr>\n",
       "      <th>25</th>\n",
       "      <td>2018-07-26</td>\n",
       "      <td>22.0</td>\n",
       "      <td>10.2</td>\n",
       "      <td>48</td>\n",
       "      <td>0.22</td>\n",
       "    </tr>\n",
       "    <tr>\n",
       "      <th>16</th>\n",
       "      <td>2018-07-17</td>\n",
       "      <td>33.0</td>\n",
       "      <td>15.0</td>\n",
       "      <td>59</td>\n",
       "      <td>0.33</td>\n",
       "    </tr>\n",
       "    <tr>\n",
       "      <th>28</th>\n",
       "      <td>2018-07-29</td>\n",
       "      <td>35.0</td>\n",
       "      <td>12.0</td>\n",
       "      <td>36</td>\n",
       "      <td>0.35</td>\n",
       "    </tr>\n",
       "    <tr>\n",
       "      <th>2</th>\n",
       "      <td>2018-07-03</td>\n",
       "      <td>45.0</td>\n",
       "      <td>15.2</td>\n",
       "      <td>20</td>\n",
       "      <td>0.45</td>\n",
       "    </tr>\n",
       "  </tbody>\n",
       "</table>\n",
       "</div>"
      ],
      "text/plain": [
       "          Date  fuel_cost  toll_cost  misc_cost  scaled_fuel_cost\n",
       "25  2018-07-26       22.0       10.2         48              0.22\n",
       "16  2018-07-17       33.0       15.0         59              0.33\n",
       "28  2018-07-29       35.0       12.0         36              0.35\n",
       "2   2018-07-03       45.0       15.2         20              0.45"
      ]
     },
     "execution_count": 47,
     "metadata": {},
     "output_type": "execute_result"
    }
   ],
   "source": [
    "fuel_cost_data_frame.sort_values('fuel_cost').loc[:2]\n",
    "                                 "
   ]
  },
  {
   "cell_type": "code",
   "execution_count": 48,
   "metadata": {},
   "outputs": [
    {
     "data": {
      "text/html": [
       "<div>\n",
       "<style scoped>\n",
       "    .dataframe tbody tr th:only-of-type {\n",
       "        vertical-align: middle;\n",
       "    }\n",
       "\n",
       "    .dataframe tbody tr th {\n",
       "        vertical-align: top;\n",
       "    }\n",
       "\n",
       "    .dataframe thead th {\n",
       "        text-align: right;\n",
       "    }\n",
       "</style>\n",
       "<table border=\"1\" class=\"dataframe\">\n",
       "  <thead>\n",
       "    <tr style=\"text-align: right;\">\n",
       "      <th></th>\n",
       "      <th>Date</th>\n",
       "      <th>fuel_cost</th>\n",
       "      <th>toll_cost</th>\n",
       "      <th>misc_cost</th>\n",
       "      <th>scaled_fuel_cost</th>\n",
       "    </tr>\n",
       "  </thead>\n",
       "  <tbody>\n",
       "    <tr>\n",
       "      <th>25</th>\n",
       "      <td>2018-07-26</td>\n",
       "      <td>22.0</td>\n",
       "      <td>10.2</td>\n",
       "      <td>48</td>\n",
       "      <td>0.22</td>\n",
       "    </tr>\n",
       "    <tr>\n",
       "      <th>16</th>\n",
       "      <td>2018-07-17</td>\n",
       "      <td>33.0</td>\n",
       "      <td>15.0</td>\n",
       "      <td>59</td>\n",
       "      <td>0.33</td>\n",
       "    </tr>\n",
       "  </tbody>\n",
       "</table>\n",
       "</div>"
      ],
      "text/plain": [
       "          Date  fuel_cost  toll_cost  misc_cost  scaled_fuel_cost\n",
       "25  2018-07-26       22.0       10.2         48              0.22\n",
       "16  2018-07-17       33.0       15.0         59              0.33"
      ]
     },
     "execution_count": 48,
     "metadata": {},
     "output_type": "execute_result"
    }
   ],
   "source": [
    "fuel_cost_data_frame.sort_values('fuel_cost').iloc[:2]"
   ]
  },
  {
   "cell_type": "code",
   "execution_count": 49,
   "metadata": {},
   "outputs": [
    {
     "data": {
      "text/html": [
       "<div>\n",
       "<style scoped>\n",
       "    .dataframe tbody tr th:only-of-type {\n",
       "        vertical-align: middle;\n",
       "    }\n",
       "\n",
       "    .dataframe tbody tr th {\n",
       "        vertical-align: top;\n",
       "    }\n",
       "\n",
       "    .dataframe thead th {\n",
       "        text-align: right;\n",
       "    }\n",
       "</style>\n",
       "<table border=\"1\" class=\"dataframe\">\n",
       "  <thead>\n",
       "    <tr style=\"text-align: right;\">\n",
       "      <th></th>\n",
       "      <th>Date</th>\n",
       "      <th>fuel_cost</th>\n",
       "      <th>toll_cost</th>\n",
       "      <th>misc_cost</th>\n",
       "      <th>scaled_fuel_cost</th>\n",
       "    </tr>\n",
       "  </thead>\n",
       "  <tbody>\n",
       "    <tr>\n",
       "      <th>25</th>\n",
       "      <td>2018-07-26</td>\n",
       "      <td>22.0</td>\n",
       "      <td>10.2</td>\n",
       "      <td>48</td>\n",
       "      <td>0.22</td>\n",
       "    </tr>\n",
       "    <tr>\n",
       "      <th>16</th>\n",
       "      <td>2018-07-17</td>\n",
       "      <td>33.0</td>\n",
       "      <td>15.0</td>\n",
       "      <td>59</td>\n",
       "      <td>0.33</td>\n",
       "    </tr>\n",
       "  </tbody>\n",
       "</table>\n",
       "</div>"
      ],
      "text/plain": [
       "          Date  fuel_cost  toll_cost  misc_cost  scaled_fuel_cost\n",
       "25  2018-07-26       22.0       10.2         48              0.22\n",
       "16  2018-07-17       33.0       15.0         59              0.33"
      ]
     },
     "execution_count": 49,
     "metadata": {},
     "output_type": "execute_result"
    }
   ],
   "source": [
    "fuel_cost_data_frame.sort_values('fuel_cost')[:2]"
   ]
  },
  {
   "cell_type": "markdown",
   "metadata": {},
   "source": [
    "### Selecting columns "
   ]
  },
  {
   "cell_type": "code",
   "execution_count": 54,
   "metadata": {},
   "outputs": [
    {
     "data": {
      "text/html": [
       "<div>\n",
       "<style scoped>\n",
       "    .dataframe tbody tr th:only-of-type {\n",
       "        vertical-align: middle;\n",
       "    }\n",
       "\n",
       "    .dataframe tbody tr th {\n",
       "        vertical-align: top;\n",
       "    }\n",
       "\n",
       "    .dataframe thead th {\n",
       "        text-align: right;\n",
       "    }\n",
       "</style>\n",
       "<table border=\"1\" class=\"dataframe\">\n",
       "  <thead>\n",
       "    <tr style=\"text-align: right;\">\n",
       "      <th></th>\n",
       "      <th>Date</th>\n",
       "      <th>fuel_cost</th>\n",
       "    </tr>\n",
       "  </thead>\n",
       "  <tbody>\n",
       "    <tr>\n",
       "      <th>0</th>\n",
       "      <td>2018-07-01</td>\n",
       "      <td>123.5</td>\n",
       "    </tr>\n",
       "    <tr>\n",
       "      <th>1</th>\n",
       "      <td>2018-07-02</td>\n",
       "      <td>256.0</td>\n",
       "    </tr>\n",
       "  </tbody>\n",
       "</table>\n",
       "</div>"
      ],
      "text/plain": [
       "         Date  fuel_cost\n",
       "0  2018-07-01      123.5\n",
       "1  2018-07-02      256.0"
      ]
     },
     "execution_count": 54,
     "metadata": {},
     "output_type": "execute_result"
    }
   ],
   "source": [
    "fuel_cost_data_frame[[\"Date\", \"fuel_cost\"]][:2]"
   ]
  },
  {
   "cell_type": "code",
   "execution_count": null,
   "metadata": {},
   "outputs": [],
   "source": [
    "\n",
    "\n"
   ]
  },
  {
   "cell_type": "markdown",
   "metadata": {},
   "source": [
    "# Topic 4:   Filtering"
   ]
  },
  {
   "cell_type": "code",
   "execution_count": 55,
   "metadata": {},
   "outputs": [
    {
     "name": "stdout",
     "output_type": "stream",
     "text": [
      "         Date  fuel_cost  toll_cost  misc_cost  scaled_fuel_cost\n",
      "0  2018-07-01      123.5       10.2        100             1.235\n",
      "1  2018-07-02      256.0       56.0        100             2.560\n"
     ]
    }
   ],
   "source": [
    "print fuel_cost_data_frame[fuel_cost_data_frame[\"Date\"] < '2018-07-03']"
   ]
  },
  {
   "cell_type": "code",
   "execution_count": 59,
   "metadata": {},
   "outputs": [
    {
     "name": "stdout",
     "output_type": "stream",
     "text": [
      "         Date  fuel_cost  toll_cost  misc_cost  scaled_fuel_cost\n",
      "1  2018-07-02      256.0       56.0        100              2.56\n",
      "2  2018-07-03       45.0       15.2         20              0.45\n"
     ]
    }
   ],
   "source": [
    "print fuel_cost_data_frame[(fuel_cost_data_frame[\"Date\"] < '2018-07-04') & \n",
    "                           (fuel_cost_data_frame[\"Date\"] > '2018-07-01')]"
   ]
  },
  {
   "cell_type": "code",
   "execution_count": null,
   "metadata": {},
   "outputs": [],
   "source": [
    "\n",
    "\n"
   ]
  },
  {
   "cell_type": "markdown",
   "metadata": {},
   "source": [
    "# Topic 5:   Iteration"
   ]
  },
  {
   "cell_type": "code",
   "execution_count": 61,
   "metadata": {},
   "outputs": [
    {
     "name": "stdout",
     "output_type": "stream",
     "text": [
      "0 2018-07-01\n",
      "1 2018-07-02\n",
      "2 2018-07-03\n"
     ]
    }
   ],
   "source": [
    "for index, row in fuel_cost_data_frame[:3].iterrows():\n",
    "    print index, row[\"Date\"]"
   ]
  },
  {
   "cell_type": "code",
   "execution_count": 66,
   "metadata": {},
   "outputs": [
    {
     "name": "stdout",
     "output_type": "stream",
     "text": [
      "2018-07-01\n",
      "2018-07-02\n",
      "2018-07-03\n"
     ]
    }
   ],
   "source": [
    "for row in fuel_cost_data_frame[:3].itertuples():\n",
    "    print getattr(row, \"Date\") "
   ]
  },
  {
   "cell_type": "code",
   "execution_count": null,
   "metadata": {},
   "outputs": [],
   "source": [
    "\n",
    "\n"
   ]
  },
  {
   "cell_type": "markdown",
   "metadata": {},
   "source": [
    "# Topic 6: Sorting"
   ]
  },
  {
   "cell_type": "code",
   "execution_count": 67,
   "metadata": {},
   "outputs": [
    {
     "data": {
      "text/html": [
       "<div>\n",
       "<style scoped>\n",
       "    .dataframe tbody tr th:only-of-type {\n",
       "        vertical-align: middle;\n",
       "    }\n",
       "\n",
       "    .dataframe tbody tr th {\n",
       "        vertical-align: top;\n",
       "    }\n",
       "\n",
       "    .dataframe thead th {\n",
       "        text-align: right;\n",
       "    }\n",
       "</style>\n",
       "<table border=\"1\" class=\"dataframe\">\n",
       "  <thead>\n",
       "    <tr style=\"text-align: right;\">\n",
       "      <th></th>\n",
       "      <th>Date</th>\n",
       "      <th>fuel_cost</th>\n",
       "      <th>toll_cost</th>\n",
       "      <th>misc_cost</th>\n",
       "      <th>scaled_fuel_cost</th>\n",
       "    </tr>\n",
       "  </thead>\n",
       "  <tbody>\n",
       "    <tr>\n",
       "      <th>25</th>\n",
       "      <td>2018-07-26</td>\n",
       "      <td>22.0</td>\n",
       "      <td>10.2</td>\n",
       "      <td>48</td>\n",
       "      <td>0.22</td>\n",
       "    </tr>\n",
       "    <tr>\n",
       "      <th>16</th>\n",
       "      <td>2018-07-17</td>\n",
       "      <td>33.0</td>\n",
       "      <td>15.0</td>\n",
       "      <td>59</td>\n",
       "      <td>0.33</td>\n",
       "    </tr>\n",
       "  </tbody>\n",
       "</table>\n",
       "</div>"
      ],
      "text/plain": [
       "          Date  fuel_cost  toll_cost  misc_cost  scaled_fuel_cost\n",
       "25  2018-07-26       22.0       10.2         48              0.22\n",
       "16  2018-07-17       33.0       15.0         59              0.33"
      ]
     },
     "execution_count": 67,
     "metadata": {},
     "output_type": "execute_result"
    }
   ],
   "source": [
    "fuel_cost_data_frame.sort_values('fuel_cost').iloc[:2]"
   ]
  },
  {
   "cell_type": "code",
   "execution_count": 70,
   "metadata": {},
   "outputs": [
    {
     "data": {
      "text/html": [
       "<div>\n",
       "<style scoped>\n",
       "    .dataframe tbody tr th:only-of-type {\n",
       "        vertical-align: middle;\n",
       "    }\n",
       "\n",
       "    .dataframe tbody tr th {\n",
       "        vertical-align: top;\n",
       "    }\n",
       "\n",
       "    .dataframe thead th {\n",
       "        text-align: right;\n",
       "    }\n",
       "</style>\n",
       "<table border=\"1\" class=\"dataframe\">\n",
       "  <thead>\n",
       "    <tr style=\"text-align: right;\">\n",
       "      <th></th>\n",
       "      <th>Date</th>\n",
       "      <th>fuel_cost</th>\n",
       "      <th>toll_cost</th>\n",
       "      <th>misc_cost</th>\n",
       "      <th>scaled_fuel_cost</th>\n",
       "    </tr>\n",
       "  </thead>\n",
       "  <tbody>\n",
       "    <tr>\n",
       "      <th>0</th>\n",
       "      <td>2018-07-26</td>\n",
       "      <td>22.0</td>\n",
       "      <td>10.2</td>\n",
       "      <td>48</td>\n",
       "      <td>0.22</td>\n",
       "    </tr>\n",
       "    <tr>\n",
       "      <th>1</th>\n",
       "      <td>2018-07-17</td>\n",
       "      <td>33.0</td>\n",
       "      <td>15.0</td>\n",
       "      <td>59</td>\n",
       "      <td>0.33</td>\n",
       "    </tr>\n",
       "    <tr>\n",
       "      <th>2</th>\n",
       "      <td>2018-07-29</td>\n",
       "      <td>35.0</td>\n",
       "      <td>12.0</td>\n",
       "      <td>36</td>\n",
       "      <td>0.35</td>\n",
       "    </tr>\n",
       "  </tbody>\n",
       "</table>\n",
       "</div>"
      ],
      "text/plain": [
       "         Date  fuel_cost  toll_cost  misc_cost  scaled_fuel_cost\n",
       "0  2018-07-26       22.0       10.2         48              0.22\n",
       "1  2018-07-17       33.0       15.0         59              0.33\n",
       "2  2018-07-29       35.0       12.0         36              0.35"
      ]
     },
     "execution_count": 70,
     "metadata": {},
     "output_type": "execute_result"
    }
   ],
   "source": [
    "fuel_cost_data_frame.sort_values('fuel_cost').reset_index(drop=True).loc[:2]"
   ]
  },
  {
   "cell_type": "code",
   "execution_count": null,
   "metadata": {},
   "outputs": [],
   "source": [
    "\n",
    "\n"
   ]
  },
  {
   "cell_type": "markdown",
   "metadata": {},
   "source": [
    "# Topic 7: Group By"
   ]
  },
  {
   "cell_type": "code",
   "execution_count": 74,
   "metadata": {},
   "outputs": [],
   "source": [
    "fuel_cost_data_frame[\"week_day\"] = fuel_cost_data_frame[\"Date\"].astype('datetime64[ns]').dt.weekday"
   ]
  },
  {
   "cell_type": "code",
   "execution_count": 77,
   "metadata": {},
   "outputs": [
    {
     "data": {
      "text/html": [
       "<div>\n",
       "<style scoped>\n",
       "    .dataframe tbody tr th:only-of-type {\n",
       "        vertical-align: middle;\n",
       "    }\n",
       "\n",
       "    .dataframe tbody tr th {\n",
       "        vertical-align: top;\n",
       "    }\n",
       "\n",
       "    .dataframe thead th {\n",
       "        text-align: right;\n",
       "    }\n",
       "</style>\n",
       "<table border=\"1\" class=\"dataframe\">\n",
       "  <thead>\n",
       "    <tr style=\"text-align: right;\">\n",
       "      <th></th>\n",
       "      <th>fuel_cost</th>\n",
       "      <th>toll_cost</th>\n",
       "      <th>misc_cost</th>\n",
       "      <th>scaled_fuel_cost</th>\n",
       "    </tr>\n",
       "    <tr>\n",
       "      <th>week_day</th>\n",
       "      <th></th>\n",
       "      <th></th>\n",
       "      <th></th>\n",
       "      <th></th>\n",
       "    </tr>\n",
       "  </thead>\n",
       "  <tbody>\n",
       "    <tr>\n",
       "      <th>0</th>\n",
       "      <td>1142.00</td>\n",
       "      <td>21.80</td>\n",
       "      <td>52.60</td>\n",
       "      <td>11.4200</td>\n",
       "    </tr>\n",
       "    <tr>\n",
       "      <th>1</th>\n",
       "      <td>289.80</td>\n",
       "      <td>16.24</td>\n",
       "      <td>31.00</td>\n",
       "      <td>2.8980</td>\n",
       "    </tr>\n",
       "    <tr>\n",
       "      <th>2</th>\n",
       "      <td>193.75</td>\n",
       "      <td>11.55</td>\n",
       "      <td>37.75</td>\n",
       "      <td>1.9375</td>\n",
       "    </tr>\n",
       "    <tr>\n",
       "      <th>3</th>\n",
       "      <td>255.25</td>\n",
       "      <td>24.05</td>\n",
       "      <td>50.50</td>\n",
       "      <td>2.5525</td>\n",
       "    </tr>\n",
       "    <tr>\n",
       "      <th>4</th>\n",
       "      <td>1944.00</td>\n",
       "      <td>24.05</td>\n",
       "      <td>43.75</td>\n",
       "      <td>19.4400</td>\n",
       "    </tr>\n",
       "    <tr>\n",
       "      <th>5</th>\n",
       "      <td>669.25</td>\n",
       "      <td>13.30</td>\n",
       "      <td>28.00</td>\n",
       "      <td>6.6925</td>\n",
       "    </tr>\n",
       "    <tr>\n",
       "      <th>6</th>\n",
       "      <td>359.50</td>\n",
       "      <td>12.64</td>\n",
       "      <td>53.40</td>\n",
       "      <td>3.5950</td>\n",
       "    </tr>\n",
       "  </tbody>\n",
       "</table>\n",
       "</div>"
      ],
      "text/plain": [
       "          fuel_cost  toll_cost  misc_cost  scaled_fuel_cost\n",
       "week_day                                                   \n",
       "0           1142.00      21.80      52.60           11.4200\n",
       "1            289.80      16.24      31.00            2.8980\n",
       "2            193.75      11.55      37.75            1.9375\n",
       "3            255.25      24.05      50.50            2.5525\n",
       "4           1944.00      24.05      43.75           19.4400\n",
       "5            669.25      13.30      28.00            6.6925\n",
       "6            359.50      12.64      53.40            3.5950"
      ]
     },
     "execution_count": 77,
     "metadata": {},
     "output_type": "execute_result"
    }
   ],
   "source": [
    "fuel_cost_data_frame.groupby(['week_day']).mean()"
   ]
  },
  {
   "cell_type": "code",
   "execution_count": 78,
   "metadata": {},
   "outputs": [
    {
     "data": {
      "text/html": [
       "<div>\n",
       "<style scoped>\n",
       "    .dataframe tbody tr th:only-of-type {\n",
       "        vertical-align: middle;\n",
       "    }\n",
       "\n",
       "    .dataframe tbody tr th {\n",
       "        vertical-align: top;\n",
       "    }\n",
       "\n",
       "    .dataframe thead th {\n",
       "        text-align: right;\n",
       "    }\n",
       "</style>\n",
       "<table border=\"1\" class=\"dataframe\">\n",
       "  <thead>\n",
       "    <tr style=\"text-align: right;\">\n",
       "      <th></th>\n",
       "      <th>Date</th>\n",
       "      <th>fuel_cost</th>\n",
       "      <th>toll_cost</th>\n",
       "      <th>misc_cost</th>\n",
       "      <th>scaled_fuel_cost</th>\n",
       "    </tr>\n",
       "    <tr>\n",
       "      <th>week_day</th>\n",
       "      <th></th>\n",
       "      <th></th>\n",
       "      <th></th>\n",
       "      <th></th>\n",
       "      <th></th>\n",
       "    </tr>\n",
       "  </thead>\n",
       "  <tbody>\n",
       "    <tr>\n",
       "      <th>0</th>\n",
       "      <td>2018-07-30</td>\n",
       "      <td>3232.0</td>\n",
       "      <td>56.0</td>\n",
       "      <td>100</td>\n",
       "      <td>32.32</td>\n",
       "    </tr>\n",
       "    <tr>\n",
       "      <th>1</th>\n",
       "      <td>2018-07-31</td>\n",
       "      <td>555.0</td>\n",
       "      <td>23.0</td>\n",
       "      <td>59</td>\n",
       "      <td>5.55</td>\n",
       "    </tr>\n",
       "    <tr>\n",
       "      <th>2</th>\n",
       "      <td>2018-07-25</td>\n",
       "      <td>344.0</td>\n",
       "      <td>12.0</td>\n",
       "      <td>59</td>\n",
       "      <td>3.44</td>\n",
       "    </tr>\n",
       "    <tr>\n",
       "      <th>3</th>\n",
       "      <td>2018-07-26</td>\n",
       "      <td>445.0</td>\n",
       "      <td>56.0</td>\n",
       "      <td>59</td>\n",
       "      <td>4.45</td>\n",
       "    </tr>\n",
       "    <tr>\n",
       "      <th>4</th>\n",
       "      <td>2018-07-27</td>\n",
       "      <td>5959.0</td>\n",
       "      <td>56.0</td>\n",
       "      <td>59</td>\n",
       "      <td>59.59</td>\n",
       "    </tr>\n",
       "    <tr>\n",
       "      <th>5</th>\n",
       "      <td>2018-07-28</td>\n",
       "      <td>1515.0</td>\n",
       "      <td>15.2</td>\n",
       "      <td>36</td>\n",
       "      <td>15.15</td>\n",
       "    </tr>\n",
       "    <tr>\n",
       "      <th>6</th>\n",
       "      <td>2018-07-29</td>\n",
       "      <td>565.0</td>\n",
       "      <td>15.0</td>\n",
       "      <td>100</td>\n",
       "      <td>5.65</td>\n",
       "    </tr>\n",
       "  </tbody>\n",
       "</table>\n",
       "</div>"
      ],
      "text/plain": [
       "                Date  fuel_cost  toll_cost  misc_cost  scaled_fuel_cost\n",
       "week_day                                                               \n",
       "0         2018-07-30     3232.0       56.0        100             32.32\n",
       "1         2018-07-31      555.0       23.0         59              5.55\n",
       "2         2018-07-25      344.0       12.0         59              3.44\n",
       "3         2018-07-26      445.0       56.0         59              4.45\n",
       "4         2018-07-27     5959.0       56.0         59             59.59\n",
       "5         2018-07-28     1515.0       15.2         36             15.15\n",
       "6         2018-07-29      565.0       15.0        100              5.65"
      ]
     },
     "execution_count": 78,
     "metadata": {},
     "output_type": "execute_result"
    }
   ],
   "source": [
    "fuel_cost_data_frame.groupby(['week_day']).max()"
   ]
  },
  {
   "cell_type": "code",
   "execution_count": null,
   "metadata": {},
   "outputs": [],
   "source": [
    "\n",
    "\n"
   ]
  },
  {
   "cell_type": "markdown",
   "metadata": {},
   "source": [
    "# Topic 8: Rolling Operations"
   ]
  },
  {
   "cell_type": "code",
   "execution_count": 81,
   "metadata": {},
   "outputs": [
    {
     "data": {
      "text/html": [
       "<div>\n",
       "<style scoped>\n",
       "    .dataframe tbody tr th:only-of-type {\n",
       "        vertical-align: middle;\n",
       "    }\n",
       "\n",
       "    .dataframe tbody tr th {\n",
       "        vertical-align: top;\n",
       "    }\n",
       "\n",
       "    .dataframe thead th {\n",
       "        text-align: right;\n",
       "    }\n",
       "</style>\n",
       "<table border=\"1\" class=\"dataframe\">\n",
       "  <thead>\n",
       "    <tr style=\"text-align: right;\">\n",
       "      <th></th>\n",
       "      <th>toll_cost</th>\n",
       "      <th>fuel_cost</th>\n",
       "    </tr>\n",
       "  </thead>\n",
       "  <tbody>\n",
       "    <tr>\n",
       "      <th>0</th>\n",
       "      <td>NaN</td>\n",
       "      <td>NaN</td>\n",
       "    </tr>\n",
       "    <tr>\n",
       "      <th>1</th>\n",
       "      <td>NaN</td>\n",
       "      <td>NaN</td>\n",
       "    </tr>\n",
       "    <tr>\n",
       "      <th>2</th>\n",
       "      <td>10.2</td>\n",
       "      <td>424.5</td>\n",
       "    </tr>\n",
       "    <tr>\n",
       "      <th>3</th>\n",
       "      <td>12.0</td>\n",
       "      <td>524.0</td>\n",
       "    </tr>\n",
       "    <tr>\n",
       "      <th>4</th>\n",
       "      <td>12.0</td>\n",
       "      <td>713.0</td>\n",
       "    </tr>\n",
       "  </tbody>\n",
       "</table>\n",
       "</div>"
      ],
      "text/plain": [
       "   toll_cost  fuel_cost\n",
       "0        NaN        NaN\n",
       "1        NaN        NaN\n",
       "2       10.2      424.5\n",
       "3       12.0      524.0\n",
       "4       12.0      713.0"
      ]
     },
     "execution_count": 81,
     "metadata": {},
     "output_type": "execute_result"
    }
   ],
   "source": [
    "fuel_cost_data_frame.rolling(3).agg({'fuel_cost':'sum', 'toll_cost':'min'})[:5]"
   ]
  },
  {
   "cell_type": "code",
   "execution_count": null,
   "metadata": {},
   "outputs": [],
   "source": [
    "\n",
    "\n"
   ]
  },
  {
   "cell_type": "markdown",
   "metadata": {},
   "source": [
    "# Topic 9: Pivot\n",
    "Return reshaped DataFrame organized by given index / column values."
   ]
  },
  {
   "cell_type": "code",
   "execution_count": 83,
   "metadata": {},
   "outputs": [],
   "source": [
    "pivot_df = pandas.DataFrame({'foo': ['one', 'one', 'one', 'two', 'two',\n",
    "                               'two'],\n",
    "                       'bar': ['A', 'B', 'C', 'A', 'B', 'C'],\n",
    "                       'baz': [1, 2, 3, 4, 5, 6],\n",
    "                       'zoo': ['x', 'y', 'z', 'q', 'w', 't']})"
   ]
  },
  {
   "cell_type": "code",
   "execution_count": 84,
   "metadata": {},
   "outputs": [
    {
     "data": {
      "text/html": [
       "<div>\n",
       "<style scoped>\n",
       "    .dataframe tbody tr th:only-of-type {\n",
       "        vertical-align: middle;\n",
       "    }\n",
       "\n",
       "    .dataframe tbody tr th {\n",
       "        vertical-align: top;\n",
       "    }\n",
       "\n",
       "    .dataframe thead th {\n",
       "        text-align: right;\n",
       "    }\n",
       "</style>\n",
       "<table border=\"1\" class=\"dataframe\">\n",
       "  <thead>\n",
       "    <tr style=\"text-align: right;\">\n",
       "      <th></th>\n",
       "      <th>bar</th>\n",
       "      <th>baz</th>\n",
       "      <th>foo</th>\n",
       "      <th>zoo</th>\n",
       "    </tr>\n",
       "  </thead>\n",
       "  <tbody>\n",
       "    <tr>\n",
       "      <th>0</th>\n",
       "      <td>A</td>\n",
       "      <td>1</td>\n",
       "      <td>one</td>\n",
       "      <td>x</td>\n",
       "    </tr>\n",
       "    <tr>\n",
       "      <th>1</th>\n",
       "      <td>B</td>\n",
       "      <td>2</td>\n",
       "      <td>one</td>\n",
       "      <td>y</td>\n",
       "    </tr>\n",
       "    <tr>\n",
       "      <th>2</th>\n",
       "      <td>C</td>\n",
       "      <td>3</td>\n",
       "      <td>one</td>\n",
       "      <td>z</td>\n",
       "    </tr>\n",
       "    <tr>\n",
       "      <th>3</th>\n",
       "      <td>A</td>\n",
       "      <td>4</td>\n",
       "      <td>two</td>\n",
       "      <td>q</td>\n",
       "    </tr>\n",
       "    <tr>\n",
       "      <th>4</th>\n",
       "      <td>B</td>\n",
       "      <td>5</td>\n",
       "      <td>two</td>\n",
       "      <td>w</td>\n",
       "    </tr>\n",
       "    <tr>\n",
       "      <th>5</th>\n",
       "      <td>C</td>\n",
       "      <td>6</td>\n",
       "      <td>two</td>\n",
       "      <td>t</td>\n",
       "    </tr>\n",
       "  </tbody>\n",
       "</table>\n",
       "</div>"
      ],
      "text/plain": [
       "  bar  baz  foo zoo\n",
       "0   A    1  one   x\n",
       "1   B    2  one   y\n",
       "2   C    3  one   z\n",
       "3   A    4  two   q\n",
       "4   B    5  two   w\n",
       "5   C    6  two   t"
      ]
     },
     "execution_count": 84,
     "metadata": {},
     "output_type": "execute_result"
    }
   ],
   "source": [
    "pivot_df"
   ]
  },
  {
   "cell_type": "code",
   "execution_count": 86,
   "metadata": {},
   "outputs": [
    {
     "data": {
      "text/html": [
       "<div>\n",
       "<style scoped>\n",
       "    .dataframe tbody tr th:only-of-type {\n",
       "        vertical-align: middle;\n",
       "    }\n",
       "\n",
       "    .dataframe tbody tr th {\n",
       "        vertical-align: top;\n",
       "    }\n",
       "\n",
       "    .dataframe thead th {\n",
       "        text-align: right;\n",
       "    }\n",
       "</style>\n",
       "<table border=\"1\" class=\"dataframe\">\n",
       "  <thead>\n",
       "    <tr style=\"text-align: right;\">\n",
       "      <th>bar</th>\n",
       "      <th>A</th>\n",
       "      <th>B</th>\n",
       "      <th>C</th>\n",
       "    </tr>\n",
       "    <tr>\n",
       "      <th>foo</th>\n",
       "      <th></th>\n",
       "      <th></th>\n",
       "      <th></th>\n",
       "    </tr>\n",
       "  </thead>\n",
       "  <tbody>\n",
       "    <tr>\n",
       "      <th>one</th>\n",
       "      <td>1</td>\n",
       "      <td>2</td>\n",
       "      <td>3</td>\n",
       "    </tr>\n",
       "    <tr>\n",
       "      <th>two</th>\n",
       "      <td>4</td>\n",
       "      <td>5</td>\n",
       "      <td>6</td>\n",
       "    </tr>\n",
       "  </tbody>\n",
       "</table>\n",
       "</div>"
      ],
      "text/plain": [
       "bar  A  B  C\n",
       "foo         \n",
       "one  1  2  3\n",
       "two  4  5  6"
      ]
     },
     "execution_count": 86,
     "metadata": {},
     "output_type": "execute_result"
    }
   ],
   "source": [
    "pivot_df.pivot(index='foo', columns='bar', values='baz')"
   ]
  },
  {
   "cell_type": "code",
   "execution_count": null,
   "metadata": {},
   "outputs": [],
   "source": [
    "\n",
    "\n"
   ]
  },
  {
   "cell_type": "markdown",
   "metadata": {},
   "source": [
    "# Topic 10: Melt\n",
    "Pandas.melt() unpivots a DataFrame from wide format to long format.\n",
    "melt() function is useful to massage a DataFrame into a format where one or more columns are identifier variables, while all other columns, considered measured variables, are unpivoted to the row axis, leaving just two non-identifier columns, variable and value."
   ]
  },
  {
   "cell_type": "code",
   "execution_count": 91,
   "metadata": {},
   "outputs": [
    {
     "data": {
      "text/html": [
       "<div>\n",
       "<style scoped>\n",
       "    .dataframe tbody tr th:only-of-type {\n",
       "        vertical-align: middle;\n",
       "    }\n",
       "\n",
       "    .dataframe tbody tr th {\n",
       "        vertical-align: top;\n",
       "    }\n",
       "\n",
       "    .dataframe thead th {\n",
       "        text-align: right;\n",
       "    }\n",
       "</style>\n",
       "<table border=\"1\" class=\"dataframe\">\n",
       "  <thead>\n",
       "    <tr style=\"text-align: right;\">\n",
       "      <th></th>\n",
       "      <th>Date</th>\n",
       "      <th>Cost Type</th>\n",
       "      <th>Cost Value</th>\n",
       "    </tr>\n",
       "  </thead>\n",
       "  <tbody>\n",
       "    <tr>\n",
       "      <th>0</th>\n",
       "      <td>2018-07-01</td>\n",
       "      <td>fuel_cost</td>\n",
       "      <td>123.5</td>\n",
       "    </tr>\n",
       "    <tr>\n",
       "      <th>1</th>\n",
       "      <td>2018-07-02</td>\n",
       "      <td>fuel_cost</td>\n",
       "      <td>256.0</td>\n",
       "    </tr>\n",
       "    <tr>\n",
       "      <th>2</th>\n",
       "      <td>2018-07-03</td>\n",
       "      <td>fuel_cost</td>\n",
       "      <td>45.0</td>\n",
       "    </tr>\n",
       "    <tr>\n",
       "      <th>3</th>\n",
       "      <td>2018-07-04</td>\n",
       "      <td>fuel_cost</td>\n",
       "      <td>223.0</td>\n",
       "    </tr>\n",
       "    <tr>\n",
       "      <th>4</th>\n",
       "      <td>2018-07-05</td>\n",
       "      <td>fuel_cost</td>\n",
       "      <td>445.0</td>\n",
       "    </tr>\n",
       "    <tr>\n",
       "      <th>5</th>\n",
       "      <td>2018-07-01</td>\n",
       "      <td>toll_cost</td>\n",
       "      <td>10.2</td>\n",
       "    </tr>\n",
       "    <tr>\n",
       "      <th>6</th>\n",
       "      <td>2018-07-02</td>\n",
       "      <td>toll_cost</td>\n",
       "      <td>56.0</td>\n",
       "    </tr>\n",
       "    <tr>\n",
       "      <th>7</th>\n",
       "      <td>2018-07-03</td>\n",
       "      <td>toll_cost</td>\n",
       "      <td>15.2</td>\n",
       "    </tr>\n",
       "    <tr>\n",
       "      <th>8</th>\n",
       "      <td>2018-07-04</td>\n",
       "      <td>toll_cost</td>\n",
       "      <td>12.0</td>\n",
       "    </tr>\n",
       "    <tr>\n",
       "      <th>9</th>\n",
       "      <td>2018-07-05</td>\n",
       "      <td>toll_cost</td>\n",
       "      <td>14.0</td>\n",
       "    </tr>\n",
       "  </tbody>\n",
       "</table>\n",
       "</div>"
      ],
      "text/plain": [
       "         Date  Cost Type  Cost Value\n",
       "0  2018-07-01  fuel_cost       123.5\n",
       "1  2018-07-02  fuel_cost       256.0\n",
       "2  2018-07-03  fuel_cost        45.0\n",
       "3  2018-07-04  fuel_cost       223.0\n",
       "4  2018-07-05  fuel_cost       445.0\n",
       "5  2018-07-01  toll_cost        10.2\n",
       "6  2018-07-02  toll_cost        56.0\n",
       "7  2018-07-03  toll_cost        15.2\n",
       "8  2018-07-04  toll_cost        12.0\n",
       "9  2018-07-05  toll_cost        14.0"
      ]
     },
     "execution_count": 91,
     "metadata": {},
     "output_type": "execute_result"
    }
   ],
   "source": [
    " pandas.melt(\n",
    "     fuel_cost_data_frame[:5][[\"Date\", \"fuel_cost\", \"toll_cost\"]], \n",
    "                          id_vars=[\"Date\"], \n",
    "                          var_name=\"Cost Type\", \n",
    "                          value_name=\"Cost Value\")"
   ]
  },
  {
   "cell_type": "code",
   "execution_count": null,
   "metadata": {},
   "outputs": [],
   "source": [
    "\n",
    "\n"
   ]
  },
  {
   "cell_type": "markdown",
   "metadata": {},
   "source": [
    "# Topic 11: Concat, Merge and Join"
   ]
  },
  {
   "cell_type": "code",
   "execution_count": 100,
   "metadata": {},
   "outputs": [],
   "source": [
    "inspection_cost_on_sundays = fuel_cost_data_frame[fuel_cost_data_frame[\"week_day\"] == 6][[\"Date\", \"week_day\"]]"
   ]
  },
  {
   "cell_type": "code",
   "execution_count": 104,
   "metadata": {},
   "outputs": [],
   "source": [
    "inspection_cost_on_sundays[\"inspection_cost\"] = 50"
   ]
  },
  {
   "cell_type": "code",
   "execution_count": 107,
   "metadata": {},
   "outputs": [
    {
     "data": {
      "text/html": [
       "<div>\n",
       "<style scoped>\n",
       "    .dataframe tbody tr th:only-of-type {\n",
       "        vertical-align: middle;\n",
       "    }\n",
       "\n",
       "    .dataframe tbody tr th {\n",
       "        vertical-align: top;\n",
       "    }\n",
       "\n",
       "    .dataframe thead th {\n",
       "        text-align: right;\n",
       "    }\n",
       "</style>\n",
       "<table border=\"1\" class=\"dataframe\">\n",
       "  <thead>\n",
       "    <tr style=\"text-align: right;\">\n",
       "      <th></th>\n",
       "      <th>Date</th>\n",
       "      <th>week_day</th>\n",
       "      <th>inspection_cost</th>\n",
       "    </tr>\n",
       "  </thead>\n",
       "  <tbody>\n",
       "    <tr>\n",
       "      <th>0</th>\n",
       "      <td>2018-07-01</td>\n",
       "      <td>6</td>\n",
       "      <td>50</td>\n",
       "    </tr>\n",
       "    <tr>\n",
       "      <th>1</th>\n",
       "      <td>2018-07-08</td>\n",
       "      <td>6</td>\n",
       "      <td>50</td>\n",
       "    </tr>\n",
       "    <tr>\n",
       "      <th>2</th>\n",
       "      <td>2018-07-15</td>\n",
       "      <td>6</td>\n",
       "      <td>50</td>\n",
       "    </tr>\n",
       "    <tr>\n",
       "      <th>3</th>\n",
       "      <td>2018-07-22</td>\n",
       "      <td>6</td>\n",
       "      <td>50</td>\n",
       "    </tr>\n",
       "    <tr>\n",
       "      <th>4</th>\n",
       "      <td>2018-07-29</td>\n",
       "      <td>6</td>\n",
       "      <td>50</td>\n",
       "    </tr>\n",
       "  </tbody>\n",
       "</table>\n",
       "</div>"
      ],
      "text/plain": [
       "         Date  week_day  inspection_cost\n",
       "0  2018-07-01         6               50\n",
       "1  2018-07-08         6               50\n",
       "2  2018-07-15         6               50\n",
       "3  2018-07-22         6               50\n",
       "4  2018-07-29         6               50"
      ]
     },
     "execution_count": 107,
     "metadata": {},
     "output_type": "execute_result"
    }
   ],
   "source": [
    "inspection_cost_on_sundays.reset_index(drop=True, inplace=True)\n",
    "inspection_cost_on_sundays"
   ]
  },
  {
   "cell_type": "code",
   "execution_count": 110,
   "metadata": {},
   "outputs": [
    {
     "data": {
      "text/html": [
       "<div>\n",
       "<style scoped>\n",
       "    .dataframe tbody tr th:only-of-type {\n",
       "        vertical-align: middle;\n",
       "    }\n",
       "\n",
       "    .dataframe tbody tr th {\n",
       "        vertical-align: top;\n",
       "    }\n",
       "\n",
       "    .dataframe thead th {\n",
       "        text-align: right;\n",
       "    }\n",
       "</style>\n",
       "<table border=\"1\" class=\"dataframe\">\n",
       "  <thead>\n",
       "    <tr style=\"text-align: right;\">\n",
       "      <th></th>\n",
       "      <th>Date</th>\n",
       "      <th>fuel_cost</th>\n",
       "      <th>toll_cost</th>\n",
       "      <th>misc_cost</th>\n",
       "      <th>scaled_fuel_cost</th>\n",
       "      <th>week_day_x</th>\n",
       "      <th>week_day_y</th>\n",
       "      <th>inspection_cost</th>\n",
       "    </tr>\n",
       "  </thead>\n",
       "  <tbody>\n",
       "    <tr>\n",
       "      <th>0</th>\n",
       "      <td>2018-07-01</td>\n",
       "      <td>123.5</td>\n",
       "      <td>10.2</td>\n",
       "      <td>100</td>\n",
       "      <td>1.235</td>\n",
       "      <td>6</td>\n",
       "      <td>6</td>\n",
       "      <td>50</td>\n",
       "    </tr>\n",
       "    <tr>\n",
       "      <th>1</th>\n",
       "      <td>2018-07-08</td>\n",
       "      <td>565.0</td>\n",
       "      <td>12.0</td>\n",
       "      <td>36</td>\n",
       "      <td>5.650</td>\n",
       "      <td>6</td>\n",
       "      <td>6</td>\n",
       "      <td>50</td>\n",
       "    </tr>\n",
       "    <tr>\n",
       "      <th>2</th>\n",
       "      <td>2018-07-15</td>\n",
       "      <td>559.0</td>\n",
       "      <td>14.0</td>\n",
       "      <td>36</td>\n",
       "      <td>5.590</td>\n",
       "      <td>6</td>\n",
       "      <td>6</td>\n",
       "      <td>50</td>\n",
       "    </tr>\n",
       "    <tr>\n",
       "      <th>3</th>\n",
       "      <td>2018-07-22</td>\n",
       "      <td>515.0</td>\n",
       "      <td>15.0</td>\n",
       "      <td>59</td>\n",
       "      <td>5.150</td>\n",
       "      <td>6</td>\n",
       "      <td>6</td>\n",
       "      <td>50</td>\n",
       "    </tr>\n",
       "    <tr>\n",
       "      <th>4</th>\n",
       "      <td>2018-07-29</td>\n",
       "      <td>35.0</td>\n",
       "      <td>12.0</td>\n",
       "      <td>36</td>\n",
       "      <td>0.350</td>\n",
       "      <td>6</td>\n",
       "      <td>6</td>\n",
       "      <td>50</td>\n",
       "    </tr>\n",
       "  </tbody>\n",
       "</table>\n",
       "</div>"
      ],
      "text/plain": [
       "         Date  fuel_cost  toll_cost  misc_cost  scaled_fuel_cost  week_day_x  \\\n",
       "0  2018-07-01      123.5       10.2        100             1.235           6   \n",
       "1  2018-07-08      565.0       12.0         36             5.650           6   \n",
       "2  2018-07-15      559.0       14.0         36             5.590           6   \n",
       "3  2018-07-22      515.0       15.0         59             5.150           6   \n",
       "4  2018-07-29       35.0       12.0         36             0.350           6   \n",
       "\n",
       "   week_day_y  inspection_cost  \n",
       "0           6               50  \n",
       "1           6               50  \n",
       "2           6               50  \n",
       "3           6               50  \n",
       "4           6               50  "
      ]
     },
     "execution_count": 110,
     "metadata": {},
     "output_type": "execute_result"
    }
   ],
   "source": [
    "pandas.merge(fuel_cost_data_frame, inspection_cost_on_sundays, how=\"inner\", on=\"Date\")"
   ]
  },
  {
   "cell_type": "code",
   "execution_count": 113,
   "metadata": {},
   "outputs": [
    {
     "data": {
      "text/html": [
       "<div>\n",
       "<style scoped>\n",
       "    .dataframe tbody tr th:only-of-type {\n",
       "        vertical-align: middle;\n",
       "    }\n",
       "\n",
       "    .dataframe tbody tr th {\n",
       "        vertical-align: top;\n",
       "    }\n",
       "\n",
       "    .dataframe thead th {\n",
       "        text-align: right;\n",
       "    }\n",
       "</style>\n",
       "<table border=\"1\" class=\"dataframe\">\n",
       "  <thead>\n",
       "    <tr style=\"text-align: right;\">\n",
       "      <th></th>\n",
       "      <th>Date_x</th>\n",
       "      <th>fuel_cost</th>\n",
       "      <th>toll_cost</th>\n",
       "      <th>misc_cost</th>\n",
       "      <th>scaled_fuel_cost</th>\n",
       "      <th>week_day</th>\n",
       "      <th>Date_y</th>\n",
       "      <th>inspection_cost</th>\n",
       "    </tr>\n",
       "  </thead>\n",
       "  <tbody>\n",
       "    <tr>\n",
       "      <th>0</th>\n",
       "      <td>2018-07-01</td>\n",
       "      <td>123.5</td>\n",
       "      <td>10.2</td>\n",
       "      <td>100</td>\n",
       "      <td>1.235</td>\n",
       "      <td>6</td>\n",
       "      <td>2018-07-01</td>\n",
       "      <td>50</td>\n",
       "    </tr>\n",
       "    <tr>\n",
       "      <th>1</th>\n",
       "      <td>2018-07-01</td>\n",
       "      <td>123.5</td>\n",
       "      <td>10.2</td>\n",
       "      <td>100</td>\n",
       "      <td>1.235</td>\n",
       "      <td>6</td>\n",
       "      <td>2018-07-08</td>\n",
       "      <td>50</td>\n",
       "    </tr>\n",
       "    <tr>\n",
       "      <th>2</th>\n",
       "      <td>2018-07-01</td>\n",
       "      <td>123.5</td>\n",
       "      <td>10.2</td>\n",
       "      <td>100</td>\n",
       "      <td>1.235</td>\n",
       "      <td>6</td>\n",
       "      <td>2018-07-15</td>\n",
       "      <td>50</td>\n",
       "    </tr>\n",
       "    <tr>\n",
       "      <th>3</th>\n",
       "      <td>2018-07-01</td>\n",
       "      <td>123.5</td>\n",
       "      <td>10.2</td>\n",
       "      <td>100</td>\n",
       "      <td>1.235</td>\n",
       "      <td>6</td>\n",
       "      <td>2018-07-22</td>\n",
       "      <td>50</td>\n",
       "    </tr>\n",
       "    <tr>\n",
       "      <th>4</th>\n",
       "      <td>2018-07-01</td>\n",
       "      <td>123.5</td>\n",
       "      <td>10.2</td>\n",
       "      <td>100</td>\n",
       "      <td>1.235</td>\n",
       "      <td>6</td>\n",
       "      <td>2018-07-29</td>\n",
       "      <td>50</td>\n",
       "    </tr>\n",
       "    <tr>\n",
       "      <th>5</th>\n",
       "      <td>2018-07-08</td>\n",
       "      <td>565.0</td>\n",
       "      <td>12.0</td>\n",
       "      <td>36</td>\n",
       "      <td>5.650</td>\n",
       "      <td>6</td>\n",
       "      <td>2018-07-01</td>\n",
       "      <td>50</td>\n",
       "    </tr>\n",
       "    <tr>\n",
       "      <th>6</th>\n",
       "      <td>2018-07-08</td>\n",
       "      <td>565.0</td>\n",
       "      <td>12.0</td>\n",
       "      <td>36</td>\n",
       "      <td>5.650</td>\n",
       "      <td>6</td>\n",
       "      <td>2018-07-08</td>\n",
       "      <td>50</td>\n",
       "    </tr>\n",
       "    <tr>\n",
       "      <th>7</th>\n",
       "      <td>2018-07-08</td>\n",
       "      <td>565.0</td>\n",
       "      <td>12.0</td>\n",
       "      <td>36</td>\n",
       "      <td>5.650</td>\n",
       "      <td>6</td>\n",
       "      <td>2018-07-15</td>\n",
       "      <td>50</td>\n",
       "    </tr>\n",
       "    <tr>\n",
       "      <th>8</th>\n",
       "      <td>2018-07-08</td>\n",
       "      <td>565.0</td>\n",
       "      <td>12.0</td>\n",
       "      <td>36</td>\n",
       "      <td>5.650</td>\n",
       "      <td>6</td>\n",
       "      <td>2018-07-22</td>\n",
       "      <td>50</td>\n",
       "    </tr>\n",
       "    <tr>\n",
       "      <th>9</th>\n",
       "      <td>2018-07-08</td>\n",
       "      <td>565.0</td>\n",
       "      <td>12.0</td>\n",
       "      <td>36</td>\n",
       "      <td>5.650</td>\n",
       "      <td>6</td>\n",
       "      <td>2018-07-29</td>\n",
       "      <td>50</td>\n",
       "    </tr>\n",
       "    <tr>\n",
       "      <th>10</th>\n",
       "      <td>2018-07-15</td>\n",
       "      <td>559.0</td>\n",
       "      <td>14.0</td>\n",
       "      <td>36</td>\n",
       "      <td>5.590</td>\n",
       "      <td>6</td>\n",
       "      <td>2018-07-01</td>\n",
       "      <td>50</td>\n",
       "    </tr>\n",
       "    <tr>\n",
       "      <th>11</th>\n",
       "      <td>2018-07-15</td>\n",
       "      <td>559.0</td>\n",
       "      <td>14.0</td>\n",
       "      <td>36</td>\n",
       "      <td>5.590</td>\n",
       "      <td>6</td>\n",
       "      <td>2018-07-08</td>\n",
       "      <td>50</td>\n",
       "    </tr>\n",
       "    <tr>\n",
       "      <th>12</th>\n",
       "      <td>2018-07-15</td>\n",
       "      <td>559.0</td>\n",
       "      <td>14.0</td>\n",
       "      <td>36</td>\n",
       "      <td>5.590</td>\n",
       "      <td>6</td>\n",
       "      <td>2018-07-15</td>\n",
       "      <td>50</td>\n",
       "    </tr>\n",
       "    <tr>\n",
       "      <th>13</th>\n",
       "      <td>2018-07-15</td>\n",
       "      <td>559.0</td>\n",
       "      <td>14.0</td>\n",
       "      <td>36</td>\n",
       "      <td>5.590</td>\n",
       "      <td>6</td>\n",
       "      <td>2018-07-22</td>\n",
       "      <td>50</td>\n",
       "    </tr>\n",
       "    <tr>\n",
       "      <th>14</th>\n",
       "      <td>2018-07-15</td>\n",
       "      <td>559.0</td>\n",
       "      <td>14.0</td>\n",
       "      <td>36</td>\n",
       "      <td>5.590</td>\n",
       "      <td>6</td>\n",
       "      <td>2018-07-29</td>\n",
       "      <td>50</td>\n",
       "    </tr>\n",
       "  </tbody>\n",
       "</table>\n",
       "</div>"
      ],
      "text/plain": [
       "        Date_x  fuel_cost  toll_cost  misc_cost  scaled_fuel_cost  week_day  \\\n",
       "0   2018-07-01      123.5       10.2        100             1.235         6   \n",
       "1   2018-07-01      123.5       10.2        100             1.235         6   \n",
       "2   2018-07-01      123.5       10.2        100             1.235         6   \n",
       "3   2018-07-01      123.5       10.2        100             1.235         6   \n",
       "4   2018-07-01      123.5       10.2        100             1.235         6   \n",
       "5   2018-07-08      565.0       12.0         36             5.650         6   \n",
       "6   2018-07-08      565.0       12.0         36             5.650         6   \n",
       "7   2018-07-08      565.0       12.0         36             5.650         6   \n",
       "8   2018-07-08      565.0       12.0         36             5.650         6   \n",
       "9   2018-07-08      565.0       12.0         36             5.650         6   \n",
       "10  2018-07-15      559.0       14.0         36             5.590         6   \n",
       "11  2018-07-15      559.0       14.0         36             5.590         6   \n",
       "12  2018-07-15      559.0       14.0         36             5.590         6   \n",
       "13  2018-07-15      559.0       14.0         36             5.590         6   \n",
       "14  2018-07-15      559.0       14.0         36             5.590         6   \n",
       "\n",
       "        Date_y  inspection_cost  \n",
       "0   2018-07-01               50  \n",
       "1   2018-07-08               50  \n",
       "2   2018-07-15               50  \n",
       "3   2018-07-22               50  \n",
       "4   2018-07-29               50  \n",
       "5   2018-07-01               50  \n",
       "6   2018-07-08               50  \n",
       "7   2018-07-15               50  \n",
       "8   2018-07-22               50  \n",
       "9   2018-07-29               50  \n",
       "10  2018-07-01               50  \n",
       "11  2018-07-08               50  \n",
       "12  2018-07-15               50  \n",
       "13  2018-07-22               50  \n",
       "14  2018-07-29               50  "
      ]
     },
     "execution_count": 113,
     "metadata": {},
     "output_type": "execute_result"
    }
   ],
   "source": [
    "pandas.merge(fuel_cost_data_frame, inspection_cost_on_sundays, how=\"inner\", on=\"week_day\")[:15]"
   ]
  },
  {
   "cell_type": "code",
   "execution_count": 114,
   "metadata": {},
   "outputs": [
    {
     "data": {
      "text/html": [
       "<div>\n",
       "<style scoped>\n",
       "    .dataframe tbody tr th:only-of-type {\n",
       "        vertical-align: middle;\n",
       "    }\n",
       "\n",
       "    .dataframe tbody tr th {\n",
       "        vertical-align: top;\n",
       "    }\n",
       "\n",
       "    .dataframe thead th {\n",
       "        text-align: right;\n",
       "    }\n",
       "</style>\n",
       "<table border=\"1\" class=\"dataframe\">\n",
       "  <thead>\n",
       "    <tr style=\"text-align: right;\">\n",
       "      <th></th>\n",
       "      <th>Date</th>\n",
       "      <th>fuel_cost</th>\n",
       "      <th>toll_cost</th>\n",
       "      <th>misc_cost</th>\n",
       "      <th>scaled_fuel_cost</th>\n",
       "      <th>week_day_x</th>\n",
       "      <th>week_day_y</th>\n",
       "      <th>inspection_cost</th>\n",
       "    </tr>\n",
       "  </thead>\n",
       "  <tbody>\n",
       "    <tr>\n",
       "      <th>0</th>\n",
       "      <td>2018-07-01</td>\n",
       "      <td>123.5</td>\n",
       "      <td>10.2</td>\n",
       "      <td>100</td>\n",
       "      <td>1.235</td>\n",
       "      <td>6</td>\n",
       "      <td>6.0</td>\n",
       "      <td>50.0</td>\n",
       "    </tr>\n",
       "    <tr>\n",
       "      <th>1</th>\n",
       "      <td>2018-07-02</td>\n",
       "      <td>256.0</td>\n",
       "      <td>56.0</td>\n",
       "      <td>100</td>\n",
       "      <td>2.560</td>\n",
       "      <td>0</td>\n",
       "      <td>NaN</td>\n",
       "      <td>NaN</td>\n",
       "    </tr>\n",
       "    <tr>\n",
       "      <th>2</th>\n",
       "      <td>2018-07-03</td>\n",
       "      <td>45.0</td>\n",
       "      <td>15.2</td>\n",
       "      <td>20</td>\n",
       "      <td>0.450</td>\n",
       "      <td>1</td>\n",
       "      <td>NaN</td>\n",
       "      <td>NaN</td>\n",
       "    </tr>\n",
       "    <tr>\n",
       "      <th>3</th>\n",
       "      <td>2018-07-04</td>\n",
       "      <td>223.0</td>\n",
       "      <td>12.0</td>\n",
       "      <td>36</td>\n",
       "      <td>2.230</td>\n",
       "      <td>2</td>\n",
       "      <td>NaN</td>\n",
       "      <td>NaN</td>\n",
       "    </tr>\n",
       "    <tr>\n",
       "      <th>4</th>\n",
       "      <td>2018-07-05</td>\n",
       "      <td>445.0</td>\n",
       "      <td>14.0</td>\n",
       "      <td>59</td>\n",
       "      <td>4.450</td>\n",
       "      <td>3</td>\n",
       "      <td>NaN</td>\n",
       "      <td>NaN</td>\n",
       "    </tr>\n",
       "    <tr>\n",
       "      <th>5</th>\n",
       "      <td>2018-07-06</td>\n",
       "      <td>999.0</td>\n",
       "      <td>11.0</td>\n",
       "      <td>48</td>\n",
       "      <td>9.990</td>\n",
       "      <td>4</td>\n",
       "      <td>NaN</td>\n",
       "      <td>NaN</td>\n",
       "    </tr>\n",
       "    <tr>\n",
       "      <th>6</th>\n",
       "      <td>2018-07-07</td>\n",
       "      <td>444.0</td>\n",
       "      <td>15.0</td>\n",
       "      <td>20</td>\n",
       "      <td>4.440</td>\n",
       "      <td>5</td>\n",
       "      <td>NaN</td>\n",
       "      <td>NaN</td>\n",
       "    </tr>\n",
       "    <tr>\n",
       "      <th>7</th>\n",
       "      <td>2018-07-08</td>\n",
       "      <td>565.0</td>\n",
       "      <td>12.0</td>\n",
       "      <td>36</td>\n",
       "      <td>5.650</td>\n",
       "      <td>6</td>\n",
       "      <td>6.0</td>\n",
       "      <td>50.0</td>\n",
       "    </tr>\n",
       "    <tr>\n",
       "      <th>8</th>\n",
       "      <td>2018-07-09</td>\n",
       "      <td>3232.0</td>\n",
       "      <td>16.0</td>\n",
       "      <td>59</td>\n",
       "      <td>32.320</td>\n",
       "      <td>0</td>\n",
       "      <td>NaN</td>\n",
       "      <td>NaN</td>\n",
       "    </tr>\n",
       "    <tr>\n",
       "      <th>9</th>\n",
       "      <td>2018-07-10</td>\n",
       "      <td>484.0</td>\n",
       "      <td>12.0</td>\n",
       "      <td>20</td>\n",
       "      <td>4.840</td>\n",
       "      <td>1</td>\n",
       "      <td>NaN</td>\n",
       "      <td>NaN</td>\n",
       "    </tr>\n",
       "    <tr>\n",
       "      <th>10</th>\n",
       "      <td>2018-07-11</td>\n",
       "      <td>95.0</td>\n",
       "      <td>10.2</td>\n",
       "      <td>36</td>\n",
       "      <td>0.950</td>\n",
       "      <td>2</td>\n",
       "      <td>NaN</td>\n",
       "      <td>NaN</td>\n",
       "    </tr>\n",
       "    <tr>\n",
       "      <th>11</th>\n",
       "      <td>2018-07-12</td>\n",
       "      <td>322.0</td>\n",
       "      <td>56.0</td>\n",
       "      <td>59</td>\n",
       "      <td>3.220</td>\n",
       "      <td>3</td>\n",
       "      <td>NaN</td>\n",
       "      <td>NaN</td>\n",
       "    </tr>\n",
       "    <tr>\n",
       "      <th>12</th>\n",
       "      <td>2018-07-13</td>\n",
       "      <td>595.0</td>\n",
       "      <td>15.2</td>\n",
       "      <td>48</td>\n",
       "      <td>5.950</td>\n",
       "      <td>4</td>\n",
       "      <td>NaN</td>\n",
       "      <td>NaN</td>\n",
       "    </tr>\n",
       "    <tr>\n",
       "      <th>13</th>\n",
       "      <td>2018-07-14</td>\n",
       "      <td>1515.0</td>\n",
       "      <td>12.0</td>\n",
       "      <td>20</td>\n",
       "      <td>15.150</td>\n",
       "      <td>5</td>\n",
       "      <td>NaN</td>\n",
       "      <td>NaN</td>\n",
       "    </tr>\n",
       "    <tr>\n",
       "      <th>14</th>\n",
       "      <td>2018-07-15</td>\n",
       "      <td>559.0</td>\n",
       "      <td>14.0</td>\n",
       "      <td>36</td>\n",
       "      <td>5.590</td>\n",
       "      <td>6</td>\n",
       "      <td>6.0</td>\n",
       "      <td>50.0</td>\n",
       "    </tr>\n",
       "  </tbody>\n",
       "</table>\n",
       "</div>"
      ],
      "text/plain": [
       "          Date  fuel_cost  toll_cost  misc_cost  scaled_fuel_cost  week_day_x  \\\n",
       "0   2018-07-01      123.5       10.2        100             1.235           6   \n",
       "1   2018-07-02      256.0       56.0        100             2.560           0   \n",
       "2   2018-07-03       45.0       15.2         20             0.450           1   \n",
       "3   2018-07-04      223.0       12.0         36             2.230           2   \n",
       "4   2018-07-05      445.0       14.0         59             4.450           3   \n",
       "5   2018-07-06      999.0       11.0         48             9.990           4   \n",
       "6   2018-07-07      444.0       15.0         20             4.440           5   \n",
       "7   2018-07-08      565.0       12.0         36             5.650           6   \n",
       "8   2018-07-09     3232.0       16.0         59            32.320           0   \n",
       "9   2018-07-10      484.0       12.0         20             4.840           1   \n",
       "10  2018-07-11       95.0       10.2         36             0.950           2   \n",
       "11  2018-07-12      322.0       56.0         59             3.220           3   \n",
       "12  2018-07-13      595.0       15.2         48             5.950           4   \n",
       "13  2018-07-14     1515.0       12.0         20            15.150           5   \n",
       "14  2018-07-15      559.0       14.0         36             5.590           6   \n",
       "\n",
       "    week_day_y  inspection_cost  \n",
       "0          6.0             50.0  \n",
       "1          NaN              NaN  \n",
       "2          NaN              NaN  \n",
       "3          NaN              NaN  \n",
       "4          NaN              NaN  \n",
       "5          NaN              NaN  \n",
       "6          NaN              NaN  \n",
       "7          6.0             50.0  \n",
       "8          NaN              NaN  \n",
       "9          NaN              NaN  \n",
       "10         NaN              NaN  \n",
       "11         NaN              NaN  \n",
       "12         NaN              NaN  \n",
       "13         NaN              NaN  \n",
       "14         6.0             50.0  "
      ]
     },
     "execution_count": 114,
     "metadata": {},
     "output_type": "execute_result"
    }
   ],
   "source": [
    "pandas.merge(fuel_cost_data_frame, inspection_cost_on_sundays, how=\"outer\", on=\"Date\")[:15]"
   ]
  },
  {
   "cell_type": "code",
   "execution_count": 115,
   "metadata": {},
   "outputs": [],
   "source": [
    "df1 = pandas.DataFrame([['a', 1], ['b', 2]], columns=['letter', 'number'])\n",
    "df2 = pandas.DataFrame([['a', 3], ['b', 2]], columns=['letter', 'number'])"
   ]
  },
  {
   "cell_type": "code",
   "execution_count": 116,
   "metadata": {},
   "outputs": [
    {
     "data": {
      "text/html": [
       "<div>\n",
       "<style scoped>\n",
       "    .dataframe tbody tr th:only-of-type {\n",
       "        vertical-align: middle;\n",
       "    }\n",
       "\n",
       "    .dataframe tbody tr th {\n",
       "        vertical-align: top;\n",
       "    }\n",
       "\n",
       "    .dataframe thead th {\n",
       "        text-align: right;\n",
       "    }\n",
       "</style>\n",
       "<table border=\"1\" class=\"dataframe\">\n",
       "  <thead>\n",
       "    <tr style=\"text-align: right;\">\n",
       "      <th></th>\n",
       "      <th>letter</th>\n",
       "      <th>number</th>\n",
       "    </tr>\n",
       "  </thead>\n",
       "  <tbody>\n",
       "    <tr>\n",
       "      <th>0</th>\n",
       "      <td>a</td>\n",
       "      <td>1</td>\n",
       "    </tr>\n",
       "    <tr>\n",
       "      <th>1</th>\n",
       "      <td>b</td>\n",
       "      <td>2</td>\n",
       "    </tr>\n",
       "    <tr>\n",
       "      <th>0</th>\n",
       "      <td>a</td>\n",
       "      <td>3</td>\n",
       "    </tr>\n",
       "    <tr>\n",
       "      <th>1</th>\n",
       "      <td>b</td>\n",
       "      <td>2</td>\n",
       "    </tr>\n",
       "  </tbody>\n",
       "</table>\n",
       "</div>"
      ],
      "text/plain": [
       "  letter  number\n",
       "0      a       1\n",
       "1      b       2\n",
       "0      a       3\n",
       "1      b       2"
      ]
     },
     "execution_count": 116,
     "metadata": {},
     "output_type": "execute_result"
    }
   ],
   "source": [
    "pandas.concat([df1, df2])"
   ]
  },
  {
   "cell_type": "code",
   "execution_count": null,
   "metadata": {},
   "outputs": [],
   "source": [
    "\n",
    "\n"
   ]
  },
  {
   "cell_type": "markdown",
   "metadata": {},
   "source": [
    "## Plotting (Better to use native matplotlib)"
   ]
  },
  {
   "cell_type": "code",
   "execution_count": 121,
   "metadata": {},
   "outputs": [
    {
     "data": {
      "image/png": "[encoded data removed]",
      "text/plain": [
       "<Figure size 432x288 with 1 Axes>"
      ]
     },
     "metadata": {
      "needs_background": "light"
     },
     "output_type": "display_data"
    }
   ],
   "source": [
    "fuel_cost_data_frame.plot();\n"
   ]
  },
  {
   "cell_type": "code",
   "execution_count": null,
   "metadata": {},
   "outputs": [],
   "source": []
  }
 ],
 "metadata": {
  "kernelspec": {
   "display_name": "Python 3",
   "language": "python",
   "name": "python3"
  },
  "language_info": {
   "codemirror_mode": {
    "name": "ipython",
    "version": 3
   },
   "file_extension": ".py",
   "mimetype": "text/x-python",
   "name": "python",
   "nbconvert_exporter": "python",
   "pygments_lexer": "ipython3",
   "version": "3.7.3"
  }
 },
 "nbformat": 4,
 "nbformat_minor": 2
}
