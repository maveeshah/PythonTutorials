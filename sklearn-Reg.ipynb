{
 "cells": [
  {
   "cell_type": "markdown",
   "metadata": {},
   "source": [
    "# Scikit-learn"
   ]
  },
  {
   "cell_type": "markdown",
   "metadata": {},
   "source": [
    "* Open source Python library for machine learning in python\n",
    "* Contains methods for preprocessing data, cross-validation and visualization algorithms \n",
    "* using a unifed interface"
   ]
  },
  {
   "cell_type": "markdown",
   "metadata": {},
   "source": [
    "## Installation"
   ]
  },
  {
   "cell_type": "markdown",
   "metadata": {},
   "source": [
    "For pip installation, run the following command in the terminal:\n",
    "    \n",
    "`pip install scikit-learn`"
   ]
  },
  {
   "cell_type": "markdown",
   "metadata": {},
   "source": [
    "## Using Scikit-Learn"
   ]
  },
  {
   "cell_type": "code",
   "execution_count": 1,
   "metadata": {},
   "outputs": [],
   "source": [
    "import sklearn"
   ]
  },
  {
   "cell_type": "markdown",
   "metadata": {},
   "source": [
    "## Data Loading"
   ]
  },
  {
   "cell_type": "code",
   "execution_count": 2,
   "metadata": {},
   "outputs": [
    {
     "name": "stdout",
     "output_type": "stream",
     "text": [
      "(442, 10)\n"
     ]
    }
   ],
   "source": [
    "# Import scikit learn\n",
    "from sklearn import datasets\n",
    "# Load data\n",
    "diabetes = datasets.load_diabetes()\n",
    "# Print shape of data to confirm data is loaded\n",
    "print(diabetes.data.shape)"
   ]
  },
  {
   "cell_type": "markdown",
   "metadata": {},
   "source": [
    "## Scikit Learn Linear Regression Example"
   ]
  },
  {
   "cell_type": "markdown",
   "metadata": {},
   "source": [
    "### Import the model"
   ]
  },
  {
   "cell_type": "code",
   "execution_count": 3,
   "metadata": {},
   "outputs": [],
   "source": [
    "from sklearn import linear_model"
   ]
  },
  {
   "cell_type": "markdown",
   "metadata": {},
   "source": [
    "### Creating model"
   ]
  },
  {
   "cell_type": "code",
   "execution_count": 4,
   "metadata": {},
   "outputs": [],
   "source": [
    "reg = linear_model.LinearRegression()"
   ]
  },
  {
   "cell_type": "markdown",
   "metadata": {},
   "source": [
    "### Split data to training and testing data"
   ]
  },
  {
   "cell_type": "code",
   "execution_count": 28,
   "metadata": {},
   "outputs": [],
   "source": [
    "from sklearn.model_selection import train_test_split\n",
    "import numpy as np\n",
    "\n",
    "X, y = diabetes.data[:, np.newaxis, 2], diabetes.target\n",
    "X_train, X_test, y_train, y_test = train_test_split(X, y, random_state=33)"
   ]
  },
  {
   "cell_type": "markdown",
   "metadata": {},
   "source": [
    "### Train regression moddel "
   ]
  },
  {
   "cell_type": "code",
   "execution_count": 29,
   "metadata": {},
   "outputs": [
    {
     "data": {
      "text/plain": [
       "LinearRegression(copy_X=True, fit_intercept=True, n_jobs=1, normalize=False)"
      ]
     },
     "execution_count": 29,
     "metadata": {},
     "output_type": "execute_result"
    }
   ],
   "source": [
    "reg.fit( X = X_train, y = y_train)"
   ]
  },
  {
   "cell_type": "markdown",
   "metadata": {},
   "source": [
    "### Get test data predictions"
   ]
  },
  {
   "cell_type": "code",
   "execution_count": 30,
   "metadata": {},
   "outputs": [],
   "source": [
    "predictions = reg.predict(X_test)"
   ]
  },
  {
   "cell_type": "code",
   "execution_count": 31,
   "metadata": {},
   "outputs": [
    {
     "name": "stdout",
     "output_type": "stream",
     "text": [
      "[173.35306498 119.99509017 195.32399578 192.18529138 147.19719497\n",
      " 143.01225577 228.80350939 118.94885537 206.83257858 208.92504818\n",
      " 172.30683018 132.54990777 214.15622219 150.33589937 168.12189098\n",
      " 129.41120337  96.97792456 149.28966457 153.47460377 204.74010898\n",
      " 130.45743817 110.57897697 213.10998739 198.46270018 164.98318658\n",
      " 226.71103979 126.27249897 176.49176938  85.46934176 144.05849057\n",
      " 109.53274217 179.63047378 213.10998739 144.05849057 111.62521177\n",
      " 169.16812578  92.79298536 116.85638577 118.94885537 134.64237737\n",
      " 117.90262057 193.23152618 141.96602097 223.57233539 205.78634378\n",
      " 138.82731657 116.85638577 147.19719497 124.18002937 149.28966457\n",
      " 114.76391617 134.64237737 244.49703139 150.33589937 125.22626417\n",
      " 179.63047378 122.08755977 143.01225577  99.07039416 265.4217274\n",
      " 157.65954297 175.44553458 221.47986579  83.37687216  93.83922016\n",
      " 122.08755977 199.50893498 146.15096017 212.06375259 101.16286376\n",
      " 273.7916058  109.53274217  98.02415936 180.67670858 171.26059538\n",
      " 146.15096017 183.81541298 109.53274217  84.42310696 159.75201258\n",
      " 196.37023058  98.02415936 151.38213417 117.90262057  86.51557656\n",
      " 144.05849057 229.84974419 130.45743817 124.18002937 261.23678819\n",
      " 130.45743817 104.30156816 172.30683018 130.45743817  80.23816776\n",
      " 121.04132497 244.49703139 107.44027256  89.65428096 232.98844859\n",
      " 214.15622219 105.34780296 319.82593701 129.41120337 207.87881338\n",
      " 122.08755977 163.93695178 108.48650737 213.10998739 122.08755977\n",
      " 107.44027256]\n"
     ]
    }
   ],
   "source": [
    "print(predictions)"
   ]
  },
  {
   "cell_type": "code",
   "execution_count": 32,
   "metadata": {},
   "outputs": [
    {
     "name": "stdout",
     "output_type": "stream",
     "text": [
      "[237. 185. 137.  85. 155. 181. 332.  50. 187. 310. 273.  84. 151.  88.\n",
      " 118.  71.  86.  92. 115. 230. 110. 102. 132. 272. 111. 275.  88. 232.\n",
      "  49. 168.  47. 283. 243.  61.  71. 201.  65.  93. 135. 241. 113. 180.\n",
      "  91. 252. 163. 104. 206. 248.  55. 126.  97. 148. 128. 198. 118.  52.\n",
      "  65.  94. 183. 237.  73. 178. 277.  57.  45.  54. 174. 177. 263.  60.\n",
      " 281. 178.  88. 225.  69.  81. 202.  72.  77. 249. 103. 158. 217. 129.\n",
      "  48.  25. 233. 163.  66. 258.  58.  75. 113.  89. 134. 190. 200. 111.\n",
      "  59. 180. 110. 189. 242.  98. 173. 214. 150. 200. 215.  84.  96.]\n"
     ]
    }
   ],
   "source": [
    "print(y_test)"
   ]
  },
  {
   "cell_type": "markdown",
   "metadata": {},
   "source": [
    "## Evaluating the trained model"
   ]
  },
  {
   "cell_type": "code",
   "execution_count": 33,
   "metadata": {},
   "outputs": [],
   "source": [
    "from sklearn.metrics import mean_squared_error, r2_score\n",
    "import matplotlib.pyplot as plt"
   ]
  },
  {
   "cell_type": "markdown",
   "metadata": {},
   "source": [
    "#### Error and evalations"
   ]
  },
  {
   "cell_type": "code",
   "execution_count": 35,
   "metadata": {},
   "outputs": [
    {
     "name": "stdout",
     "output_type": "stream",
     "text": [
      "Coefficients: \n",
      " [970.70243093]\n",
      "Mean squared error: 3444.58\n",
      "Variance score: 0.36\n"
     ]
    }
   ],
   "source": [
    "# The coefficients\n",
    "print('Coefficients: \\n', reg.coef_)\n",
    "\n",
    "# The mean squared error\n",
    "print(\"Mean squared error: %.2f\"\n",
    "      % mean_squared_error(y_test, predictions))\n",
    "\n",
    "# Explained variance score: 1 is perfect prediction\n",
    "print('Variance score: %.2f' % r2_score(y_test, predictions))\n"
   ]
  },
  {
   "cell_type": "markdown",
   "metadata": {},
   "source": [
    "#### Regression plot"
   ]
  },
  {
   "cell_type": "code",
   "execution_count": 36,
   "metadata": {},
   "outputs": [
    {
     "data": {
      "image/png": "[encoded data removed]",
      "text/plain": [
       "<matplotlib.figure.Figure at 0x2646de4c400>"
      ]
     },
     "metadata": {},
     "output_type": "display_data"
    }
   ],
   "source": [
    "# Plot outputs\n",
    "plt.scatter(X_test, y_test,  color='black')\n",
    "plt.plot(X_test, predictions, color='blue', linewidth=3)\n",
    "\n",
    "plt.xticks(())\n",
    "plt.yticks(())\n",
    "\n",
    "plt.show()"
   ]
  }
 ],
 "metadata": {
  "kernelspec": {
   "display_name": "Python 3",
   "language": "python",
   "name": "python3"
  },
  "language_info": {
   "codemirror_mode": {
    "name": "ipython",
    "version": 3
   },
   "file_extension": ".py",
   "mimetype": "text/x-python",
   "name": "python",
   "nbconvert_exporter": "python",
   "pygments_lexer": "ipython3",
   "version": "3.7.3"
  }
 },
 "nbformat": 4,
 "nbformat_minor": 2
}
